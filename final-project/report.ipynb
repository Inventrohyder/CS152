{
 "metadata": {
  "language_info": {
   "codemirror_mode": {
    "name": "ipython",
    "version": 3
   },
   "file_extension": ".py",
   "mimetype": "text/x-python",
   "name": "python",
   "nbconvert_exporter": "python",
   "pygments_lexer": "ipython3",
   "version": "3.7.3-final"
  },
  "orig_nbformat": 2,
  "kernelspec": {
   "name": "python3",
   "display_name": "Python 3",
   "language": "python"
  }
 },
 "nbformat": 4,
 "nbformat_minor": 2,
 "cells": [
  {
   "source": [
    "# CS152 Final Project"
   ],
   "cell_type": "markdown",
   "metadata": {}
  },
  {
   "source": [
    "## Problem Definition: \n",
    "This will be an extended version of what you submitted for your proposal. It should detail the exact nature of the problem you are trying to solve, along with why this problem is interesting/significant, and why AI approaches are a good fit. [HC: #rightproblem].\n",
    "## Solution Specification: \n",
    "This section should describe your approach to solving the problem described in the problem definition section. It should detail the steps taken to solve the problem, including the AI method or methods that you have adopted, and how you applied those methods to produce your solution. [HCs: #breakitdown, #algorithms, LOs: \n",
    "will depend on those you nominated in your proposal].\n",
    "## Analysis of Solution: \n",
    "This section should present an analysis of your proposed solution operating on some relevant test cases. It should describe the test cases used, and relevant results using appropriate representations (e.g. tables and figures). [HCs: #simulation, #professionalism. LOs: will depend on those you nominated in your proposal]\n",
    "## References: \n",
    "This section should detail any references you used when formulating your problem or producing your solution.\n",
    "## Appendices: \n",
    "Include here any relevant appendices (e.g. Python or Prolog code). Also include a copy of your original proposal here."
   ],
   "cell_type": "markdown",
   "metadata": {}
  },
  {
   "source": [
    "## Problem Definition\n",
    "\n"
   ],
   "cell_type": "markdown",
   "metadata": {}
  },
  {
   "source": [
    "In this project we implement a solution in `Prolog` that allows a _single-agent_ computer program to solve a **diagonal sudoku**. The _task environment_ has the following properties:"
   ],
   "cell_type": "markdown",
   "metadata": {}
  },
  {
   "source": [
    "- **Performance measure**\n",
    "    + The performance of the agent is measured by how fast it can solve a diagonal sudoku. Additional measurements that can be implemented as well are given a varying degree of difficulty of a sudoku puzzle, how fast does the agent solve it?\n",
    "    + The agent should be able to solve any solvable **diagonal sudoku** that is $9 \\times 9$."
   ],
   "cell_type": "markdown",
   "metadata": {}
  },
  {
   "cell_type": "code",
   "execution_count": 1,
   "metadata": {},
   "outputs": [
    {
     "output_type": "stream",
     "name": "stdout",
     "text": [
      "1 loop, best of 5: 629 ms per loop\n"
     ]
    }
   ],
   "source": [
    "%%timeit\n",
    "%%bash\n",
    "swipl -s sudoku.pl > /dev/null"
   ]
  },
  {
   "source": [
    "- **Environment**\n",
    "    + The environment that the agent is in is **fully observable** since it is able to know the complete state of all the squares of the sudoku at any point in time.\n",
    "    + The environment is also **deterministic** since all the actions that can be taken have the same outcome each time. The agent doesn't experience any randomness throughout while playing the game.\n",
    "    + The game play is **discrete** since the options that are produced by the program or that are expected solutions are finite in number.\n",
    "    + The environment doesn't change as the game is going on, therefore it is a **static** environment.\n",
    "    + The agent solves the problem step by step and therefore, the environment of the problem is **sequential**.\n",
    "    + Lastly, the game play environment is **not adversarial** since it is also just a single-agent program playing a single sudoku game."
   ],
   "cell_type": "markdown",
   "metadata": {}
  },
  {
   "source": [
    "- **Actuators**\n",
    "    + The program agent in our problem doesn't have any actuators, it just tries to solve the diagonal sudoku that we provide it with.\n",
    "\n",
    "- **Sensors**\n",
    "    + The program agent also doensn't have any physical sensors, however, it is aware of the game play state through its memory."
   ],
   "cell_type": "markdown",
   "metadata": {}
  },
  {
   "source": [
    "## Solution Specification"
   ],
   "cell_type": "markdown",
   "metadata": {}
  },
  {
   "source": [
    "As we talk about the solution, we can also talk about the state space of the problem. The _intial state_ of the problem is given as a prefilled diagonal sudoku with a number of blank spaces.\n",
    "\n",
    "The _actions_ that our agent takes is trying out different solutions until it finds one that is appropriate. The _successor states_ of the problem is the different sudokus that may be part of the solution.\n",
    "\n",
    "The _goal test_ is to check if all the rules of a diagonal sudoku are satisfied. Although the agent doesn't make use of any _cost function_, it has an implicit one of trying to get the answer as quickly as possible."
   ],
   "cell_type": "markdown",
   "metadata": {}
  },
  {
   "source": [
    "## Analysis of Solution"
   ],
   "cell_type": "markdown",
   "metadata": {}
  },
  {
   "cell_type": "code",
   "execution_count": 7,
   "metadata": {},
   "outputs": [
    {
     "output_type": "stream",
     "name": "stdout",
     "text": [
      "\u001b[34mfrom\u001b[39;49;00m \u001b[04m\u001b[36mpyswip\u001b[39;49;00m \u001b[34mimport\u001b[39;49;00m Prolog\n\u001b[34mfrom\u001b[39;49;00m \u001b[04m\u001b[36mpyswip.easy\u001b[39;49;00m \u001b[34mimport\u001b[39;49;00m Functor, Term, Variable, call, registerForeign\n\n\nprolog = Prolog()\n\nprolog.consult(\u001b[33m'\u001b[39;49;00m\u001b[33msudoku_for_py.pl\u001b[39;49;00m\u001b[33m'\u001b[39;49;00m)\n\nproblem = Functor(\u001b[33m\"\u001b[39;49;00m\u001b[33mproblem\u001b[39;49;00m\u001b[33m\"\u001b[39;49;00m, \u001b[34m2\u001b[39;49;00m)\n\n\u001b[34mdef\u001b[39;49;00m \u001b[32msolve_problem\u001b[39;49;00m(prob: \u001b[36mstr\u001b[39;49;00m) -> \u001b[36mstr\u001b[39;49;00m:\n\n    retractall = Functor(\u001b[33m\"\u001b[39;49;00m\u001b[33mretractall\u001b[39;49;00m\u001b[33m\"\u001b[39;49;00m)\n    \u001b[37m# Each we query clear all the problems values\u001b[39;49;00m\n    call(retractall(problem))\n\n    prolog.assertz(f\u001b[33m\"\"\"\u001b[39;49;00m\u001b[33mproblem(1, {prob})\u001b[39;49;00m\u001b[33m\"\"\"\u001b[39;49;00m)\n\n    \u001b[34mreturn\u001b[39;49;00m \u001b[36mlist\u001b[39;49;00m(prolog.query(\u001b[33m'\u001b[39;49;00m\u001b[33manswer(X).\u001b[39;49;00m\u001b[33m'\u001b[39;49;00m, maxresult=\u001b[34m1\u001b[39;49;00m))[\u001b[34m0\u001b[39;49;00m][\u001b[33m'\u001b[39;49;00m\u001b[33mX\u001b[39;49;00m\u001b[33m'\u001b[39;49;00m]\n"
     ]
    }
   ],
   "source": [
    "!pygmentize sudoku.py"
   ]
  },
  {
   "cell_type": "code",
   "execution_count": 9,
   "metadata": {},
   "outputs": [
    {
     "output_type": "stream",
     "name": "stdout",
     "text": [
      "<div class=\"highlight\"><pre><span></span><span class=\"kn\">from</span> <span class=\"nn\">pyswip</span> <span class=\"kn\">import</span> <span class=\"n\">Prolog</span>\n<span class=\"kn\">from</span> <span class=\"nn\">pyswip.easy</span> <span class=\"kn\">import</span> <span class=\"n\">Functor</span><span class=\"p\">,</span> <span class=\"n\">Term</span><span class=\"p\">,</span> <span class=\"n\">Variable</span><span class=\"p\">,</span> <span class=\"n\">call</span><span class=\"p\">,</span> <span class=\"n\">registerForeign</span>\n\n\n<span class=\"n\">prolog</span> <span class=\"o\">=</span> <span class=\"n\">Prolog</span><span class=\"p\">()</span>\n\n<span class=\"n\">prolog</span><span class=\"o\">.</span><span class=\"n\">consult</span><span class=\"p\">(</span><span class=\"s1\">&#39;sudoku_for_py.pl&#39;</span><span class=\"p\">)</span>\n\n<span class=\"n\">problem</span> <span class=\"o\">=</span> <span class=\"n\">Functor</span><span class=\"p\">(</span><span class=\"s2\">&quot;problem&quot;</span><span class=\"p\">,</span> <span class=\"mi\">2</span><span class=\"p\">)</span>\n\n<span class=\"k\">def</span> <span class=\"nf\">solve_problem</span><span class=\"p\">(</span><span class=\"n\">prob</span><span class=\"p\">:</span> <span class=\"nb\">str</span><span class=\"p\">)</span> <span class=\"o\">-&gt;</span> <span class=\"nb\">str</span><span class=\"p\">:</span>\n\n    <span class=\"n\">retractall</span> <span class=\"o\">=</span> <span class=\"n\">Functor</span><span class=\"p\">(</span><span class=\"s2\">&quot;retractall&quot;</span><span class=\"p\">)</span>\n    <span class=\"c1\"># Each we query clear all the problems values</span>\n    <span class=\"n\">call</span><span class=\"p\">(</span><span class=\"n\">retractall</span><span class=\"p\">(</span><span class=\"n\">problem</span><span class=\"p\">))</span>\n\n    <span class=\"n\">prolog</span><span class=\"o\">.</span><span class=\"n\">assertz</span><span class=\"p\">(</span><span class=\"n\">f</span><span class=\"s2\">&quot;&quot;&quot;problem(1, {prob})&quot;&quot;&quot;</span><span class=\"p\">)</span>\n\n    <span class=\"k\">return</span> <span class=\"nb\">list</span><span class=\"p\">(</span><span class=\"n\">prolog</span><span class=\"o\">.</span><span class=\"n\">query</span><span class=\"p\">(</span><span class=\"s1\">&#39;answer(X).&#39;</span><span class=\"p\">,</span> <span class=\"n\">maxresult</span><span class=\"o\">=</span><span class=\"mi\">1</span><span class=\"p\">))[</span><span class=\"mi\">0</span><span class=\"p\">][</span><span class=\"s1\">&#39;X&#39;</span><span class=\"p\">]</span>\n</pre></div>\n"
     ]
    }
   ],
   "source": [
    "!pygmentize -f html -l python sudoku.py"
   ]
  },
  {
   "cell_type": "code",
   "execution_count": 2,
   "metadata": {},
   "outputs": [
    {
     "output_type": "execute_result",
     "data": {
      "text/plain": [
       "[[5, 8, 1, 4, 2, 7, 6, 9, 3],\n",
       " [3, 7, 4, 5, 9, 6, 8, 1, 2],\n",
       " [9, 6, 2, 1, 3, 8, 4, 7, 5],\n",
       " [6, 2, 9, 3, 8, 5, 7, 4, 1],\n",
       " [1, 5, 7, 9, 6, 4, 3, 2, 8],\n",
       " [8, 4, 3, 2, 7, 1, 5, 6, 9],\n",
       " [4, 1, 8, 7, 5, 2, 9, 3, 6],\n",
       " [2, 9, 5, 6, 4, 3, 1, 8, 7],\n",
       " [7, 3, 6, 8, 1, 9, 2, 5, 4]]"
      ]
     },
     "metadata": {},
     "execution_count": 2
    }
   ],
   "source": [
    "from sudoku import solve_problem\n",
    "\n",
    "problem = \"\"\"\n",
    "[[_,8,_, 4,_,7, _,9,_],\n",
    "[3,_,4, _,_,_, 8,_,2],\n",
    "[_,6,_, _,_,_, _,7,_],\n",
    "\n",
    "[6,_,_, _,_,_, _,_,1],\n",
    "[_,_,_, _,_,_, _,_,_],\n",
    "[8,_,_, _,_,_, _,_,9],\n",
    "\n",
    "[_,1,_, _,_,_, _,3,_],\n",
    "[2,_,5, _,_,_, 1,_,7],\n",
    "[_,3,_, 8,_,9, _,5,_]]\n",
    "\"\"\"\n",
    "\n",
    "solve_problem(problem)"
   ]
  },
  {
   "cell_type": "code",
   "execution_count": 3,
   "metadata": {},
   "outputs": [
    {
     "output_type": "stream",
     "name": "stdout",
     "text": [
      "10 loops, best of 5: 112 ms per loop\n"
     ]
    }
   ],
   "source": [
    "%%timeit\n",
    "# Easy\n",
    "problem = \"\"\"\n",
    "[[_,_,_, _,_,_, 4,1,_],\n",
    "[_,_,1, _,_,_, _,_,8],\n",
    "[_,7,_, _,_,_, 3,_,_],\n",
    "\n",
    "[8,_,7, _,4,_, _,_,_],\n",
    "[2,4,_, _,_,5, 1,_,_],\n",
    "[3,_,_, _,_,_, _,4,_],\n",
    "\n",
    "[_,8,_, _,_,_, _,_,3],\n",
    "[_,5,_, 2,_,_, 7,6,4],\n",
    "[_,6,_, _,_,9, _,_,_]]\n",
    "\"\"\"\n",
    "\n",
    "solve_problem(problem)"
   ]
  },
  {
   "cell_type": "code",
   "execution_count": 4,
   "metadata": {},
   "outputs": [
    {
     "output_type": "stream",
     "name": "stdout",
     "text": [
      "1 loop, best of 5: 225 ms per loop\n"
     ]
    }
   ],
   "source": [
    "%%timeit\n",
    "# Extreme\n",
    "problem = \"\"\"\n",
    "[[_,_,_, _,_,_, _,_,_],\n",
    "[_,_,_, 1,_,3, _,_,_],\n",
    "[5,4,_, _,_,_, _,_,_],\n",
    "\n",
    "[8,6,_, _,9,5, _,7,_],\n",
    "[_,_,_, _,_,1, 4,_,_],\n",
    "[_,1,_, _,_,_, _,_,_],\n",
    "\n",
    "[_,5,_, 7,_,_, _,2,_],\n",
    "[_,_,_, _,_,_, _,_,3],\n",
    "[_,8,_, _,2,6, 7,1,4]]\n",
    "\"\"\"\n",
    "\n",
    "solve_problem(problem)"
   ]
  },
  {
   "source": [
    "## References"
   ],
   "cell_type": "markdown",
   "metadata": {}
  },
  {
   "source": [
    "## Appendix"
   ],
   "cell_type": "markdown",
   "metadata": {}
  },
  {
   "source": [
    "### Appendix 1 Wumpus World"
   ],
   "cell_type": "markdown",
   "metadata": {}
  },
  {
   "cell_type": "code",
   "execution_count": 5,
   "metadata": {},
   "outputs": [],
   "source": [
    "from Main import main"
   ]
  },
  {
   "cell_type": "code",
   "execution_count": 6,
   "metadata": {},
   "outputs": [
    {
     "output_type": "stream",
     "name": "stdout",
     "text": [
      "Running on random generated world.\n",
      "       .      B.      S.       .\n",
      "\n",
      "      B.     PS.     WB.     BS.\n",
      "\n",
      "       .      B.    PBS.     PB.\n",
      "\n",
      "     B>.     PG.      B.      B.\n",
      "\n",
      "Score: 0\n",
      "AgentX: 0\n",
      "AgentY: 0\n",
      "AgentDir: Right\n",
      "Last Action: Climbed\n",
      "Percepts: Breeze\n",
      "       .      B.      S.       .\n",
      "\n",
      "      B.     PS.     WB.     BS.\n",
      "\n",
      "       .      B.    PBS.     PB.\n",
      "\n",
      "     B>.     PG.      B.      B.\n",
      "\n",
      "Score: -1\n",
      "AgentX: 0\n",
      "AgentY: 0\n",
      "AgentDir: Right\n",
      "Last Action: Climbed\n",
      "Percepts: Breeze\n",
      "Your agent scored: -1\n",
      "---------------\n",
      "       .       .      B.      B.\n",
      "\n",
      "       .      B.    PBS.     PB.\n",
      "\n",
      "       .      S.     WB.     BS.\n",
      "\n",
      "      >.       .     GS.       .\n",
      "\n",
      "Score: 0\n",
      "AgentX: 0\n",
      "AgentY: 0\n",
      "AgentDir: Right\n",
      "Last Action: Climbed\n",
      "Percepts: \n",
      "       .       .      B.      B.\n",
      "\n",
      "       .      B.    PBS.     PB.\n",
      "\n",
      "       .      S.     WB.     BS.\n",
      "\n",
      "       .      >.     GS.       .\n",
      "\n",
      "Score: -1\n",
      "AgentX: 1\n",
      "AgentY: 0\n",
      "AgentDir: Right\n",
      "Last Action: Moved Forward\n",
      "Percepts: \n",
      "       .       .      B.      B.\n",
      "\n",
      "       .      B.    PBS.     PB.\n",
      "\n",
      "       .      S.     WB.     BS.\n",
      "\n",
      "       .       .    GS>.       .\n",
      "\n",
      "Score: -2\n",
      "AgentX: 2\n",
      "AgentY: 0\n",
      "AgentDir: Right\n",
      "Last Action: Moved Forward\n",
      "Percepts: Stench, Glitter\n",
      "       .       .      B.      B.\n",
      "\n",
      "       .      B.    PBS.     PB.\n",
      "\n",
      "       .      S.     WB.     BS.\n",
      "\n",
      "       .       .     S>.       .\n",
      "\n",
      "Score: -3\n",
      "AgentX: 2\n",
      "AgentY: 0\n",
      "AgentDir: Right\n",
      "Last Action: Grabbed\n",
      "Percepts: Stench\n",
      "       .       .      B.      B.\n",
      "\n",
      "       .      B.    PBS.     PB.\n",
      "\n",
      "       .      S.     WB.     BS.\n",
      "\n",
      "       .       .     S^.       .\n",
      "\n",
      "Score: -4\n",
      "AgentX: 2\n",
      "AgentY: 0\n",
      "AgentDir: Up\n",
      "Last Action: Turned Left\n",
      "Percepts: Stench\n",
      "       .       .      B.      B.\n",
      "\n",
      "       .      B.    PBS.     PB.\n",
      "\n",
      "       .      S.     WB.     BS.\n",
      "\n",
      "       .       .     S<.       .\n",
      "\n",
      "Score: -5\n",
      "AgentX: 2\n",
      "AgentY: 0\n",
      "AgentDir: Left\n",
      "Last Action: Turned Left\n",
      "Percepts: Stench\n",
      "       .       .      B.      B.\n",
      "\n",
      "       .      B.    PBS.     PB.\n",
      "\n",
      "       .      S.     WB.     BS.\n",
      "\n",
      "       .      <.      S.       .\n",
      "\n",
      "Score: -6\n",
      "AgentX: 1\n",
      "AgentY: 0\n",
      "AgentDir: Left\n",
      "Last Action: Moved Forward\n",
      "Percepts: \n",
      "       .       .      B.      B.\n",
      "\n",
      "       .      B.    PBS.     PB.\n",
      "\n",
      "       .      S.     WB.     BS.\n",
      "\n",
      "      <.       .      S.       .\n",
      "\n",
      "Score: -7\n",
      "AgentX: 0\n",
      "AgentY: 0\n",
      "AgentDir: Left\n",
      "Last Action: Moved Forward\n",
      "Percepts: \n",
      "       .       .      B.      B.\n",
      "\n",
      "       .      B.    PBS.     PB.\n",
      "\n",
      "       .      S.     WB.     BS.\n",
      "\n",
      "      <.       .      S.       .\n",
      "\n",
      "Score: 992\n",
      "AgentX: 0\n",
      "AgentY: 0\n",
      "AgentDir: Left\n",
      "Last Action: Climbed\n",
      "Percepts: \n",
      "Your agent scored: 992\n",
      "---------------\n"
     ]
    }
   ],
   "source": [
    "main()"
   ]
  }
 ]
}
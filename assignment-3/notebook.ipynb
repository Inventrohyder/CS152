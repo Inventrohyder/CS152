{
 "cells": [
  {
   "cell_type": "markdown",
   "metadata": {},
   "source": [
    "Before you turn in this assignment, make sure everything runs as expected. First, **restart the kernel** (in the menubar, select Kernel$\\rightarrow$Restart) and then run the test cells for each of the questions you have answered.  Note that a grade of 3 for the related LOs requires all tests in the \"Basic Functionality\" section to be passed.  The test cells pass if they execute with no errors (i.e. all the assertions are passed).\n",
    "\n",
    "Make sure you fill in any place that says `YOUR CODE HERE`.  Be sure to remove the `raise NotImplementedError()` statements as you implement your code - these are simply there as a reminder if you forget to add code where it's needed."
   ]
  },
  {
   "cell_type": "markdown",
   "metadata": {},
   "source": [
    "---"
   ]
  },
  {
   "cell_type": "markdown",
   "metadata": {
    "deletable": false,
    "editable": false,
    "nbgrader": {
     "cell_type": "markdown",
     "checksum": "69f9950e2c060ad5c3cc41d2c78fa636",
     "grade": false,
     "grade_id": "cell-36d7173cbd11c12a",
     "locked": true,
     "schema_version": 3,
     "solution": false,
     "task": false
    }
   },
   "source": [
    "<h1>CS152 Assignment 2: The DPLL Algorithm</h1>"
   ]
  },
  {
   "cell_type": "markdown",
   "metadata": {
    "deletable": false,
    "editable": false,
    "nbgrader": {
     "cell_type": "markdown",
     "checksum": "7947006e03ad4d3e0b5469c4ddf997f0",
     "grade": false,
     "grade_id": "cell-8ec27aa9925ffc86",
     "locked": true,
     "schema_version": 3,
     "solution": false,
     "task": false
    }
   },
   "source": [
    "<h1>Question 1</h1>\n",
    "\n",
    "Define your <code>Literal</code> class below.  Ensure that you define a <code>name</code> and <code>sign</code> attribute as required in the assignment description.  In addition, include any other attributes and member functions as needed. You will need to overload <code>__neg__()</code> to correctly handle negated literals.  You may need to overload <code>__eq__()</code> and <code>__hash__()</code> also."
   ]
  },
  {
   "cell_type": "code",
   "execution_count": 1,
   "metadata": {
    "deletable": false,
    "nbgrader": {
     "cell_type": "code",
     "checksum": "6f3dcb95b91cd3b0f526b89f339b3fe9",
     "grade": false,
     "grade_id": "cell-575ae3fbbe1ccbf6",
     "locked": false,
     "schema_version": 3,
     "solution": true,
     "task": false
    }
   },
   "outputs": [],
   "source": [
    "class Literal:\n",
    "\n",
    "    def __init__(self, name: str) -> None:\n",
    "        self.name = name\n",
    "        self.sign = True  # Initialize the literal sign as positive\n",
    "\n",
    "    def pure(self):\n",
    "        \"\"\"Gets the pure version of the Literal without any negative\"\"\"\n",
    "        if self.sign:\n",
    "            return self\n",
    "        else:\n",
    "            return -self\n",
    "\n",
    "    def __neg__(self):\n",
    "        \"\"\"Flip the sign of the Literal\"\"\"\n",
    "        l = Literal(self.name)\n",
    "        l.sign = not self.sign\n",
    "        return l\n",
    "\n",
    "    def __repr__(self) -> str:\n",
    "        sign = \"\" if self.sign else \"-\"\n",
    "        return f\"{sign}{self.name}\"\n",
    "\n",
    "    def __eq__(self, o: object) -> bool:\n",
    "        \"\"\"Two literals are equal when their names are equal\"\"\"\n",
    "        return self.name == o.name\n",
    "\n",
    "    def __hash__(self) -> int:\n",
    "        return self.name.__hash__()\n"
   ]
  },
  {
   "cell_type": "markdown",
   "metadata": {
    "deletable": false,
    "editable": false,
    "nbgrader": {
     "cell_type": "markdown",
     "checksum": "7e6af6a3602f2712265baf6d3ce930f4",
     "grade": false,
     "grade_id": "cell-5df02e9e3f9998b4",
     "locked": true,
     "schema_version": 3,
     "solution": false,
     "task": false
    }
   },
   "source": [
    "<h1>Question 2</h1>\n",
    "Implement DPLL by filling in the stubs below.  Note that the various heuristics are not required to be implemented for basic functionality, but a template has been provided for you to do so if you attempt the extension questions"
   ]
  },
  {
   "cell_type": "code",
   "execution_count": 10,
   "metadata": {
    "deletable": false,
    "nbgrader": {
     "cell_type": "code",
     "checksum": "4ddf2e140725e3b8a6048c92bac9580c",
     "grade": false,
     "grade_id": "cell-2846b43cfaf88026",
     "locked": false,
     "schema_version": 3,
     "solution": true,
     "task": false
    }
   },
   "outputs": [],
   "source": [
    "from typing import List, Set, Tuple, Dict\n",
    "\n",
    "\n",
    "def simplify_clauses(\n",
    "    clauses: List[Set[Literal]], \n",
    "    model: Dict[Literal, bool]\n",
    "    ) -> List[Set[Literal]]:\n",
    "    \"\"\"Simplifies the KB based on the model provided\"\"\"\n",
    "    \n",
    "    def simplify_clause(\n",
    "        clause: Set[Literal], \n",
    "        model: Dict[Literal, bool]\n",
    "        ) -> Set[Literal]:\n",
    "            \"\"\"Simplifies a clause based on the model provided\"\"\"\n",
    "            new_clause: Set[Literal] = set()\n",
    "            for literal in clause:\n",
    "                current_evaluation = model.get(literal, None)\n",
    "                if current_evaluation and literal.sign or current_evaluation == False and literal.sign == False:\n",
    "                    return None  # Returns nothing\n",
    "                elif current_evaluation == None:\n",
    "                    new_clause.add(literal)\n",
    "            # Return the original clause if all the values are False\n",
    "            if len(new_clause) == 0: return clause  \n",
    "            return new_clause\n",
    "\n",
    "    new_clauses: List[Set[Literal]] = []\n",
    "    for clause in clauses:\n",
    "        new_clause = simplify_clause(clause, model)\n",
    "        if new_clause is not None:\n",
    "            new_clauses.append(new_clause)\n",
    "    return new_clauses\n",
    "\n",
    "\n",
    "def get_symbols(clauses: List[Set[Literal]]) -> Set[str]:\n",
    "    \"\"\"Returns the symbols in the clauses\"\"\"\n",
    "    symbols: Set[str] = set()\n",
    "    for clause in clauses:\n",
    "        for literal in clause:\n",
    "            symbols.add(literal)\n",
    "    return symbols\n",
    "\n",
    "\n",
    "def evaluate_clauses(\n",
    "    clauses: List[Set[Literal]], \n",
    "    model: Dict[Literal, bool]\n",
    "    ) -> bool:\n",
    "    \"\"\"Checks if all the clauses evaluate to true, returning true, or if any\n",
    "    evaluates to false, returning false, or if the status cannot be told, None\"\"\"\n",
    "    \n",
    "    current_clauses: List[Set[Literal]] = simplify_clauses(clauses, model)\n",
    "\n",
    "    # When every clause in clauses is True in the model\n",
    "    if len(current_clauses) == 0: return True\n",
    "\n",
    "    for clause in current_clauses:\n",
    "        # When all the literals in the clause are False, the clause is False\n",
    "        all_false: bool  = True\n",
    "        for literal in clause:\n",
    "            if model.get(literal, None) is None:\n",
    "                all_false = False\n",
    "                break\n",
    "        if all_false:\n",
    "            return False\n",
    "    return None\n",
    "\n",
    "def most_common_symbol(\n",
    "    symbols: Set[Literal], \n",
    "    clauses: List[Set[Literal]],\n",
    "    model:Dict[Literal, bool]\n",
    "    ) -> Tuple[Literal, Set[Literal]]:\n",
    "\n",
    "    current_clauses: List[Set[Literal]] = simplify_clauses(clauses, model)\n",
    "\n",
    "    counts = {}\n",
    "    highest: Literal = None\n",
    "    for clause in current_clauses:\n",
    "        for literal in clause:\n",
    "            counts[literal] = counts.get(literal, 0)\n",
    "            if highest is None:\n",
    "                highest = literal\n",
    "            else:\n",
    "                if counts[literal] > counts[highest]:\n",
    "                    highest = literal\n",
    "                elif counts[literal] == counts[highest]:\n",
    "                    highest = literal if literal.name < highest.name else highest\n",
    "                else:\n",
    "                    pass\n",
    "    new_symbols = symbols.copy()\n",
    "    new_symbols.remove(highest)\n",
    "    return highest, new_symbols\n",
    "\n",
    "\n",
    "def DPLL_Satisfiable(\n",
    "    KB: List[Set[Literal]], \n",
    "    heuristic_level=0\n",
    "    ) -> Tuple[bool, Dict[Literal, bool], List[Literal]]:\n",
    "    ''' satisfiable, model = DPLLSatisfiable(KB)\n",
    "        Takes in a KB and returns whether the KB is satisfiable, and the model that makes it so\n",
    "        \n",
    "        KB: A knowledge base of clauses (CNF) consisting of a list of sets of literals.  A KB might look like\n",
    "            [{A,B},{-A,C,D}]\n",
    "        heuristic_level: An integer that will be passed in to specify which heuristics to implement \n",
    "            (only for the extension activities).\n",
    "        satisfiable: Returns True if the KB is satisfiable, or False otherwise\n",
    "        Model: A dictionary that assigns a truth value to each literal for the model that satisfies KB.\n",
    "            For example, a model might look like {A: True, B: False}\n",
    "    '''\n",
    "    def DPLL(\n",
    "        clauses: List[Set[Literal]], \n",
    "        symbols: Set[Literal], \n",
    "        model:Dict[Literal, bool],\n",
    "        heuristic_level: int = 0,\n",
    "        symbol_list: List[Literal] = []\n",
    "        ) -> Tuple[bool, Dict[Literal, bool], List[Literal]]:\n",
    "        \"\"\"\n",
    "        Takes in a KB and recursively tries to figure out whether the KB is satisfiable, \n",
    "        and the model that makes it so.\n",
    "            \n",
    "        :param clauses: A knowledge base of clauses (CNF) consisting of a list of sets of literals.  A KB might look like\n",
    "                [{A,B},{-A,C,D}]\n",
    "        :param symbols: The symbols present in the KB\n",
    "        :param model: The model to use during the search\n",
    "        :param heuristic_level: An integer that will be passed in to specify which heuristics to implement \n",
    "                (only for the extension activities).\n",
    "                0: No heuristic is used\n",
    "                1: The degree heuristic\n",
    "                2: Pure symbol and unit clause heuristics\n",
    "                3: Most occuring pure symbol\n",
    "        :param symbol_list: The currently chosen symbols. It should be initialized as empty\n",
    "        :returns satisfiable: Returns True if the KB is satisfiable, or False otherwise\n",
    "        :returns Model: A dictionary that assigns a truth value to each literal for the model that satisfies KB.\n",
    "                For example, a model might look like {A: True, B: False}\n",
    "        :returns symbol_list: symbols chosen for assignment\n",
    "        \"\"\"\n",
    "\n",
    "        evaluation: bool = evaluate_clauses(clauses, model)\n",
    "\n",
    "        if evaluation is not None:\n",
    "            return evaluation, model, symbol_list\n",
    "\n",
    "        if heuristic_level == 1:\n",
    "            # Degree heuristic - Most common symbol first\n",
    "            symbols_lst = list(symbols)\n",
    "            P, rest = most_common_symbol(symbols, clauses, model) \n",
    "\n",
    "            symbol_list.append(P.pure())\n",
    "            when_true = DPLL(clauses, rest, {**model, **{P.pure(): True}}, heuristic_level)\n",
    "            if when_true[0]:\n",
    "                return when_true\n",
    "\n",
    "            symbol_list.append(P.pure())\n",
    "            when_false = DPLL(clauses, rest, {**model, **{P.pure(): False}}, heuristic_level)\n",
    "            return when_false\n",
    "        elif heuristic_level == 2:\n",
    "            P, value = find_pure_symbol(symbols, clauses, model)\n",
    "            if P: \n",
    "                new_symbols = symbols.copy()\n",
    "                new_symbols.remove(P)\n",
    "                symbol_list.append(P.pure())\n",
    "                return DPLL(clauses, new_symbols, {**model, **{P.pure(): value}}, heuristic_level)\n",
    "            P, value = find_unit_clause(clauses, model)\n",
    "            if P: \n",
    "                new_symbols = symbols.copy()\n",
    "                new_symbols.remove(P)\n",
    "                symbol_list.append(P.pure())\n",
    "                return DPLL(clauses, new_symbols, {**model, **{P.pure(): value}}, heuristic_level)\n",
    "        elif heuristic_level == 3:\n",
    "            pass\n",
    "        else:  # heuristic_level assumed to be 0\n",
    "            symbols_lst = list(symbols)\n",
    "            P, rest = symbols_lst[0], set(symbols_lst[1:])\n",
    "\n",
    "            symbol_list.append(P.pure())\n",
    "            when_true = DPLL(clauses, rest, {**model, **{P.pure(): True}}, heuristic_level)\n",
    "            if when_true[0]:\n",
    "                return when_true\n",
    "\n",
    "            symbol_list.append(P.pure())\n",
    "            when_false = DPLL(clauses, rest, {**model, **{P.pure(): False}}, heuristic_level)\n",
    "            return when_false\n",
    " \n",
    "    clauses = KB\n",
    "    symbols: List[str] = get_symbols(clauses)\n",
    "    return DPLL(clauses, symbols, {}, heuristic_level)\n",
    "\n",
    "\n",
    "def find_pure_symbol(\n",
    "    symbols: Set[Literal], \n",
    "    clauses: List[Set[Literal]],\n",
    "    model:Dict[Literal, bool]\n",
    "    ) -> Tuple[Literal, bool]:\n",
    "    \"\"\"\n",
    "    Finds a pure symbol in the current state of the KB (clauses).\n",
    "    \"\"\"\n",
    "    current_clauses: List[Set[Literal]] = simplify_clauses(clauses, model)\n",
    "\n",
    "    pure_symbols: Set[Literal] = set()\n",
    "    # Stores the sign a symbol should have to be pure \n",
    "    symbol_signs: Dict[Literal, bool] = {}\n",
    "    symbols_lst = list(symbols) \n",
    "    for i in range(len(symbols)):\n",
    "        symbol = symbols_lst[i]\n",
    "        for clause in current_clauses:\n",
    "            if symbol in clause:\n",
    "                clause_lst = list(clause)\n",
    "                literal = clause_lst[clause_lst.index(symbol)]\n",
    "                if symbol in symbol_signs:\n",
    "                    if literal.sign != symbol_signs[symbol]:\n",
    "                        pure_symbols.remove(symbol)\n",
    "                        i += 1\n",
    "                        break\n",
    "                else:\n",
    "                    symbol_signs[symbol] = literal.sign\n",
    "                    pure_symbols.add(symbol)\n",
    "\n",
    "    pure_symbol =  list(pure_symbols)[0] if len(pure_symbols) > 0 else None\n",
    "\n",
    "    if pure_symbol is None:\n",
    "        return None, None\n",
    "\n",
    "    return pure_symbol, symbol_signs[pure_symbol]\n",
    "                \n",
    "\n",
    "def find_unit_clause(\n",
    "    clauses: List[Set[Literal]],\n",
    "    model:Dict[Literal, bool]\n",
    ") -> tuple:\n",
    "\n",
    "    current_clauses: List[Set[Literal]] = simplify_clauses(clauses, model)\n",
    "\n",
    "    for clause in current_clauses:\n",
    "        if len(clause) == 1:\n",
    "            literal = clause.pop()\n",
    "            return literal, literal.sign\n",
    "    \n",
    "    return None, None"
   ]
  },
  {
   "cell_type": "markdown",
   "metadata": {
    "deletable": false,
    "editable": false,
    "nbgrader": {
     "cell_type": "markdown",
     "checksum": "1a373b0f237fb333214a04ced058f50f",
     "grade": false,
     "grade_id": "cell-8c6248549aeaca88",
     "locked": true,
     "schema_version": 3,
     "solution": false,
     "task": false
    }
   },
   "source": [
    "<h1>Question 3</h1>\n",
    "\n",
    "Implement your KB from Russell & Norvig in CNF by filling in the sets inside the list <code>KB</code> below.  Ensure that your KB is in a list of set format as stated in the assignment instructions."
   ]
  },
  {
   "cell_type": "code",
   "execution_count": 11,
   "metadata": {
    "deletable": false,
    "nbgrader": {
     "cell_type": "code",
     "checksum": "a545c5a7e460e8a160a96549fba09556",
     "grade": false,
     "grade_id": "cell-2600ca4ae2649468",
     "locked": false,
     "schema_version": 3,
     "solution": true,
     "task": false
    }
   },
   "outputs": [],
   "source": [
    "# Define some literals\n",
    "A = Literal('A')\n",
    "B = Literal('B')\n",
    "C = Literal('C')\n",
    "D = Literal('D')\n",
    "E = Literal('E')\n",
    "F = Literal('F')\n",
    "\n",
    "KB = [\n",
    "    {-A, B, E}, {A, -B}, {A, -E},   # S1: A <=> (B v E)\n",
    "    {-E, D},                        # S2: E => D\n",
    "    {-C, -F, -B},                   # S3: C ^ F => ~B\n",
    "    {-E, B},                        # S4: E => B\n",
    "    {-B, F},                        # S5: B => F \n",
    "    {-B, C}                         # S6: B => C\n",
    "]"
   ]
  },
  {
   "cell_type": "markdown",
   "metadata": {
    "deletable": false,
    "editable": false,
    "nbgrader": {
     "cell_type": "markdown",
     "checksum": "197d7a486e328210a1d13c24747b3111",
     "grade": false,
     "grade_id": "cell-3e6849da5a8eba9a",
     "locked": true,
     "schema_version": 3,
     "solution": false,
     "task": false
    }
   },
   "source": [
    "<h1>Extensions</h1>\n",
    "\n",
    "1. Implement the degree heuristic for choosing symbols.  If <code>heuristic_level=1</code>, then the degree heuristic should be used to select which symbol to assign.\n",
    "2. Implement the pure symbol and unit clause heuristics.  If <code>heuristic_level=2</code>, then these heuristics should be used to find select first a pure symbol, and if one is not found, then a unit clause.  If neither pure symbols nor unit clauses are found, then the degree heuristic should be used to select a symbol.  If there are multiple pure symbols or unit clauses found, then use alphabetical order to select amongst them.\n",
    "3. Modify the pure symbol heuristic to choose the pure symbol that occurs in the most number of clauses.  This should be activated if <code>heuristic_level=3</code>."
   ]
  },
  {
   "cell_type": "markdown",
   "metadata": {
    "deletable": false,
    "editable": false,
    "nbgrader": {
     "cell_type": "markdown",
     "checksum": "755ed998a518249d48e3e3518ec2ed63",
     "grade": false,
     "grade_id": "cell-f24016ad18be5ed3",
     "locked": true,
     "schema_version": 3,
     "solution": false,
     "task": false
    }
   },
   "source": [
    "<h1>Basic Functionality Tests</h1>\n",
    "\n",
    "All of the tests in this section must be passed for the code to be considered fully functional.  Other unseen test cases will be used after submission to further verify functionality"
   ]
  },
  {
   "cell_type": "code",
   "execution_count": 12,
   "metadata": {
    "deletable": false,
    "editable": false,
    "nbgrader": {
     "cell_type": "code",
     "checksum": "ea88980a283406b7789cd4f485dc3172",
     "grade": true,
     "grade_id": "cell-6af1cbc180046559",
     "locked": true,
     "points": 1,
     "schema_version": 3,
     "solution": false,
     "task": false
    }
   },
   "outputs": [],
   "source": [
    "# This section will test the correct definition of the literal class\n",
    "\n",
    "\n",
    "# Test the name attribute works correctly\n",
    "assert(A.name == 'A')\n",
    "\n",
    "# Test that negation works correctly\n",
    "assert(not (-C).sign)"
   ]
  },
  {
   "cell_type": "code",
   "execution_count": 13,
   "metadata": {
    "deletable": false,
    "editable": false,
    "nbgrader": {
     "cell_type": "code",
     "checksum": "9264e8da332b50a0adf2a1de4ec4a591",
     "grade": true,
     "grade_id": "cell-76b5f4949b4918a0",
     "locked": true,
     "points": 2,
     "schema_version": 3,
     "solution": false,
     "task": false
    }
   },
   "outputs": [],
   "source": [
    "# This section will test that the KB has been correctly converted to CNF by performing \n",
    "# tests over all possible models\n",
    "import itertools\n",
    "symbols = {A,B,C,D,E,F}\n",
    "symbol_list = [A,B,C,D,E,F]\n",
    "\n",
    "def evaluate_russell_norvig_KB(model):\n",
    "    # Manually evaluate the KB using the model\n",
    "    s = list()\n",
    "    s.append(model[A] == (model[B] or model[E]))\n",
    "    s.append(model[E] <= model[D])\n",
    "    s.append((model[C] and model[F]) <= (not model[B]))\n",
    "    s.append(model[E] <= model[B])\n",
    "    s.append(model[B] <= model[F])\n",
    "    s.append(model[B] <= model[C])\n",
    "    return all(s)\n",
    "\n",
    "def evaluate_KB(KB, model):\n",
    "    model_true = True\n",
    "    model_name_dict = {l.name: model[l] for l in model}\n",
    "    for clause in KB:\n",
    "        evaluation = {l.sign == model_name_dict[l.name] for l in clause if l.name in model_name_dict}\n",
    "        model_true = model_true and any(evaluation)\n",
    "    return model_true\n",
    "\n",
    "all_models = list(itertools.product([False, True], repeat=6))\n",
    "for i in range(0, len(all_models)):\n",
    "    # Test all truth values\n",
    "    test_model = {symbol_list[j]: all_models[i][j] for j in range(0,6)}\n",
    "    \n",
    "    # Test the model\n",
    "    assert(evaluate_russell_norvig_KB(test_model) == evaluate_KB(KB, test_model))"
   ]
  },
  {
   "cell_type": "code",
   "execution_count": 14,
   "metadata": {
    "deletable": false,
    "editable": false,
    "nbgrader": {
     "cell_type": "code",
     "checksum": "bd40af18e4e25d64cb61ca9425b25eeb",
     "grade": true,
     "grade_id": "cell-5007c88f303571cb",
     "locked": true,
     "points": 4,
     "schema_version": 3,
     "solution": false,
     "task": false
    }
   },
   "outputs": [],
   "source": [
    "# This section will test the basic working of DPLL\n",
    "# Satisfiable model\n",
    "test_KB = [{A, C},{-A, C}, {B, -C}]\n",
    "t, model, symbol_trace = DPLL_Satisfiable(test_KB)\n",
    "assert(evaluate_KB(test_KB, model))\n",
    "assert(t)\n",
    "\n",
    "# Unsatisfiable model\n",
    "test_KB = [{A, C},{-A, C}, {-C}]\n",
    "t, model, symbol_trace = DPLL_Satisfiable(test_KB)\n",
    "assert(not t)"
   ]
  },
  {
   "cell_type": "code",
   "execution_count": 15,
   "metadata": {
    "deletable": false,
    "editable": false,
    "nbgrader": {
     "cell_type": "code",
     "checksum": "5d93f38084e3ef0a6cf8b286f3e12054",
     "grade": true,
     "grade_id": "cell-63ce3735a6a8d49e",
     "locked": true,
     "points": 8,
     "schema_version": 3,
     "solution": false,
     "task": false
    }
   },
   "outputs": [
    {
     "output_type": "stream",
     "name": "stdout",
     "text": [
      "{C: True, A: False, B: False, F: True, E: False}\n"
     ]
    }
   ],
   "source": [
    "# This will test DPLL on the KB from Russell & Norvig\n",
    "t, model, symbol_trace = DPLL_Satisfiable(KB,0)\n",
    "print(model)\n",
    "\n",
    "# This model is satisfiable.  Test that it is so\n",
    "assert(t)\n",
    "\n",
    "# Check that the model found actually works\n",
    "assert(evaluate_KB(KB, model)) "
   ]
  },
  {
   "cell_type": "markdown",
   "metadata": {
    "deletable": false,
    "editable": false,
    "nbgrader": {
     "cell_type": "markdown",
     "checksum": "f01239be43d1b96af4269b659140441a",
     "grade": false,
     "grade_id": "cell-d4a09c27c6cafd14",
     "locked": true,
     "schema_version": 3,
     "solution": false,
     "task": false
    }
   },
   "source": [
    "<h1>Extension Tests</h1>\n",
    "\n",
    "This section will test that the degree heuristic, pure symbol and unit clause heuristics are correctly implemented.  Note that in your code, the <code>heuristic_level</code> needs to correctly activate the heuristic being tested, and the <code>symbol_list</code> needs to be correctly generated "
   ]
  },
  {
   "cell_type": "code",
   "execution_count": 16,
   "metadata": {
    "deletable": false,
    "editable": false,
    "nbgrader": {
     "cell_type": "code",
     "checksum": "c22796e4310c481858d9941480d3abc2",
     "grade": true,
     "grade_id": "cell-782f68d63b7be51f",
     "locked": true,
     "points": 16,
     "schema_version": 3,
     "solution": false,
     "task": false
    }
   },
   "outputs": [
    {
     "output_type": "stream",
     "name": "stdout",
     "text": [
      "{A: False, B: False, D: True, E: False}\n"
     ]
    },
    {
     "output_type": "error",
     "ename": "AssertionError",
     "evalue": "",
     "traceback": [
      "\u001b[0;31m---------------------------------------------------------------------------\u001b[0m",
      "\u001b[0;31mAssertionError\u001b[0m                            Traceback (most recent call last)",
      "\u001b[0;32m<ipython-input-16-ec504883c02f>\u001b[0m in \u001b[0;36m<module>\u001b[0;34m()\u001b[0m\n\u001b[1;32m     10\u001b[0m \u001b[0;34m\u001b[0m\u001b[0m\n\u001b[1;32m     11\u001b[0m \u001b[0;31m# Test the symbol trace to ensure that the correct order is chosen\u001b[0m\u001b[0;34m\u001b[0m\u001b[0;34m\u001b[0m\u001b[0;34m\u001b[0m\u001b[0m\n\u001b[0;32m---> 12\u001b[0;31m \u001b[0;32massert\u001b[0m\u001b[0;34m(\u001b[0m\u001b[0;34m[\u001b[0m\u001b[0ml\u001b[0m\u001b[0;34m.\u001b[0m\u001b[0mname\u001b[0m \u001b[0;32mfor\u001b[0m \u001b[0ml\u001b[0m \u001b[0;32min\u001b[0m \u001b[0msymbol_trace\u001b[0m\u001b[0;34m]\u001b[0m \u001b[0;32min\u001b[0m \u001b[0;34m[\u001b[0m\u001b[0;34m[\u001b[0m\u001b[0;34m'B'\u001b[0m\u001b[0;34m,\u001b[0m\u001b[0;34m'F'\u001b[0m\u001b[0;34m,\u001b[0m \u001b[0;34m'E'\u001b[0m\u001b[0;34m,\u001b[0m \u001b[0;34m'C'\u001b[0m\u001b[0;34m,\u001b[0m \u001b[0;34m'C'\u001b[0m\u001b[0;34m,\u001b[0m \u001b[0;34m'E'\u001b[0m\u001b[0;34m,\u001b[0m \u001b[0;34m'A'\u001b[0m\u001b[0;34m]\u001b[0m\u001b[0;34m,\u001b[0m \u001b[0;34m[\u001b[0m\u001b[0;34m'B'\u001b[0m\u001b[0;34m,\u001b[0m \u001b[0;34m'A'\u001b[0m\u001b[0;34m,\u001b[0m \u001b[0;34m'C'\u001b[0m\u001b[0;34m,\u001b[0m \u001b[0;34m'F'\u001b[0m\u001b[0;34m,\u001b[0m \u001b[0;34m'E'\u001b[0m\u001b[0;34m,\u001b[0m \u001b[0;34m'A'\u001b[0m\u001b[0;34m]\u001b[0m\u001b[0;34m]\u001b[0m\u001b[0;34m)\u001b[0m\u001b[0;34m\u001b[0m\u001b[0;34m\u001b[0m\u001b[0m\n\u001b[0m\u001b[1;32m     13\u001b[0m \u001b[0;34m\u001b[0m\u001b[0m\n\u001b[1;32m     14\u001b[0m \u001b[0msymbol_trace\u001b[0m\u001b[0;34m\u001b[0m\u001b[0;34m\u001b[0m\u001b[0m\n",
      "\u001b[0;31mAssertionError\u001b[0m: "
     ]
    }
   ],
   "source": [
    "# Degree Heuristic Test for KB from Russell & Norvig\n",
    "t, model, symbol_trace = DPLL_Satisfiable(KB,1)\n",
    "print(model)\n",
    "\n",
    "# This model is satisfiable.  Test that it is so\n",
    "assert(t)\n",
    "\n",
    "# Check that the model found actually works\n",
    "assert(evaluate_KB(KB, model))  \n",
    "\n",
    "# Test the symbol trace to ensure that the correct order is chosen\n",
    "assert([l.name for l in symbol_trace] in [['B','F', 'E', 'C', 'C', 'E', 'A'], ['B', 'A', 'C', 'F', 'E', 'A']])\n",
    "\n",
    "symbol_trace"
   ]
  },
  {
   "cell_type": "code",
   "execution_count": 17,
   "metadata": {},
   "outputs": [
    {
     "output_type": "stream",
     "name": "stdout",
     "text": [
      "[A, B, C, D, F, F, D, E, E, F, F, C, B, D, E, E, D, E, E, A, B, B, D, E, E]\n"
     ]
    }
   ],
   "source": [
    "print(symbol_trace)"
   ]
  },
  {
   "cell_type": "code",
   "execution_count": null,
   "metadata": {
    "deletable": false,
    "editable": false,
    "nbgrader": {
     "cell_type": "code",
     "checksum": "0257a3a8ed46849441e37da29fdce593",
     "grade": true,
     "grade_id": "cell-1849b5bca210fac7",
     "locked": true,
     "points": 32,
     "schema_version": 3,
     "solution": false,
     "task": false
    }
   },
   "outputs": [],
   "source": [
    "# Pure Symbol & Unit Clause Heuristic Test for KB from Russell & Norvig\n",
    "t, model, symbol_trace = DPLL_Satisfiable(KB,2)\n",
    "print(model)\n",
    "\n",
    "\n",
    "# This model is satisfiable.  Test that it is so\n",
    "assert(t)\n",
    "\n",
    "# Check that the model found actually works\n",
    "assert(evaluate_KB(KB, model))\n",
    "\n",
    "# Test the symbol trace to ensure that the correct order is chosen\n",
    "assert([l.name for l in symbol_trace] == ['D', 'B', 'E', 'A', 'C', 'F', 'E', 'A'])"
   ]
  },
  {
   "cell_type": "code",
   "execution_count": null,
   "metadata": {
    "deletable": false,
    "editable": false,
    "nbgrader": {
     "cell_type": "code",
     "checksum": "01a5632a5bf35a1a3a9c8202f7c79b53",
     "grade": true,
     "grade_id": "cell-b9ce4afcdb630096",
     "locked": true,
     "points": 64,
     "schema_version": 3,
     "solution": false,
     "task": false
    }
   },
   "outputs": [],
   "source": [
    "# Pure Symbol & Unit Clause Heuristic Test, choosing the most-frequently used pure symbol, for KB from Russell & Norvig\n",
    "t, model, symbol_trace = DPLL_Satisfiable(KB,3)\n",
    "print(model)\n",
    "print(symbol_trace)\n",
    "\n",
    "# This model is satisfiable.  Test that it is so\n",
    "assert(t)\n",
    "\n",
    "# Check that the model found actually works\n",
    "assert(evaluate_KB(KB, model))\n",
    "\n",
    "# Test the symbol trace to ensure that the correct order is chosen\n",
    "assert([l.name for l in symbol_trace] == ['D', 'B', 'A', 'C', 'F', 'E', 'A'])"
   ]
  }
 ],
 "metadata": {
  "kernelspec": {
   "display_name": "Python 3",
   "language": "python",
   "name": "python3"
  },
  "language_info": {
   "codemirror_mode": {
    "name": "ipython",
    "version": 3
   },
   "file_extension": ".py",
   "mimetype": "text/x-python",
   "name": "python",
   "nbconvert_exporter": "python",
   "pygments_lexer": "ipython3",
   "version": "3.7.3-final"
  }
 },
 "nbformat": 4,
 "nbformat_minor": 2
}